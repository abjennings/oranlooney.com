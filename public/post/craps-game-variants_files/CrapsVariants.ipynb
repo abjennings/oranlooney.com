{
 "cells": [
  {
   "cell_type": "code",
   "execution_count": 118,
   "metadata": {},
   "outputs": [],
   "source": [
    "from itertools import islice\n",
    "import fractions\n",
    "from fractions import Fraction"
   ]
  },
  {
   "cell_type": "code",
   "execution_count": 119,
   "metadata": {},
   "outputs": [],
   "source": [
    "# Knuth's algorithm to partition ns into m sets.\n",
    "# https://codereview.stackexchange.com/questions/1526/finding-all-k-subset-partitions\n",
    "def algorithm_u(ns, m):\n",
    "    def visit(n, a):\n",
    "        ps = [[] for i in range(m)]\n",
    "        for j in range(n):\n",
    "            ps[a[j + 1]].append(ns[j])\n",
    "        return ps\n",
    "\n",
    "    def f(mu, nu, sigma, n, a):\n",
    "        if mu == 2:\n",
    "            yield visit(n, a)\n",
    "        else:\n",
    "            for v in f(mu - 1, nu - 1, (mu + sigma) % 2, n, a):\n",
    "                yield v\n",
    "        if nu == mu + 1:\n",
    "            a[mu] = mu - 1\n",
    "            yield visit(n, a)\n",
    "            while a[nu] > 0:\n",
    "                a[nu] = a[nu] - 1\n",
    "                yield visit(n, a)\n",
    "        elif nu > mu + 1:\n",
    "            if (mu + sigma) % 2 == 1:\n",
    "                a[nu - 1] = mu - 1\n",
    "            else:\n",
    "                a[mu] = mu - 1\n",
    "            if (a[nu] + sigma) % 2 == 1:\n",
    "                for v in b(mu, nu - 1, 0, n, a):\n",
    "                    yield v\n",
    "            else:\n",
    "                for v in f(mu, nu - 1, 0, n, a):\n",
    "                    yield v\n",
    "            while a[nu] > 0:\n",
    "                a[nu] = a[nu] - 1\n",
    "                if (a[nu] + sigma) % 2 == 1:\n",
    "                    for v in b(mu, nu - 1, 0, n, a):\n",
    "                        yield v\n",
    "                else:\n",
    "                    for v in f(mu, nu - 1, 0, n, a):\n",
    "                        yield v\n",
    "\n",
    "    def b(mu, nu, sigma, n, a):\n",
    "        if nu == mu + 1:\n",
    "            while a[nu] < mu - 1:\n",
    "                yield visit(n, a)\n",
    "                a[nu] = a[nu] + 1\n",
    "            yield visit(n, a)\n",
    "            a[mu] = 0\n",
    "        elif nu > mu + 1:\n",
    "            if (a[nu] + sigma) % 2 == 1:\n",
    "                for v in f(mu, nu - 1, 0, n, a):\n",
    "                    yield v\n",
    "            else:\n",
    "                for v in b(mu, nu - 1, 0, n, a):\n",
    "                    yield v\n",
    "            while a[nu] < mu - 1:\n",
    "                a[nu] = a[nu] + 1\n",
    "                if (a[nu] + sigma) % 2 == 1:\n",
    "                    for v in f(mu, nu - 1, 0, n, a):\n",
    "                        yield v\n",
    "                else:\n",
    "                    for v in b(mu, nu - 1, 0, n, a):\n",
    "                        yield v\n",
    "            if (mu + sigma) % 2 == 1:\n",
    "                a[nu - 1] = 0\n",
    "            else:\n",
    "                a[mu] = 0\n",
    "        if mu == 2:\n",
    "            yield visit(n, a)\n",
    "        else:\n",
    "            for v in b(mu - 1, nu - 1, (mu + sigma) % 2, n, a):\n",
    "                yield v\n",
    "\n",
    "    n = len(ns)\n",
    "    a = [0] * (n + 1)\n",
    "    for j in range(1, m + 1):\n",
    "        a[n - m + j] = j - 1\n",
    "    return f(m, n, 0, n, a)"
   ]
  },
  {
   "cell_type": "code",
   "execution_count": 120,
   "metadata": {},
   "outputs": [],
   "source": [
    "def concise_range(ns):\n",
    "    if not ns: return \"\"\n",
    "    lower, *tail = sorted(ns)\n",
    "    upper = lower\n",
    "    ranges = []\n",
    "    for n in tail:\n",
    "        if n == upper + 1:\n",
    "            upper = n\n",
    "        else:\n",
    "            ranges.append( (lower, upper) )\n",
    "            lower = n\n",
    "            upper = n\n",
    "    ranges.append( (lower, upper) )\n",
    "    intervals = []\n",
    "    for lower, upper in ranges:\n",
    "        if lower == upper:\n",
    "            intervals.append(str(lower))\n",
    "        else:\n",
    "            intervals.append(\"{}-{}\".format(lower, upper))\n",
    "    return \",\".join(intervals)\n",
    "        "
   ]
  },
  {
   "cell_type": "code",
   "execution_count": 121,
   "metadata": {},
   "outputs": [
    {
     "data": {
      "text/plain": [
       "'1-2,4-5,17'"
      ]
     },
     "execution_count": 121,
     "metadata": {},
     "output_type": "execute_result"
    }
   ],
   "source": [
    "concise_range([1,2,4,5,17])"
   ]
  },
  {
   "cell_type": "code",
   "execution_count": 122,
   "metadata": {},
   "outputs": [
    {
     "data": {
      "text/plain": [
       "{2: Fraction(1, 36),\n",
       " 3: Fraction(1, 18),\n",
       " 4: Fraction(1, 12),\n",
       " 5: Fraction(1, 9),\n",
       " 6: Fraction(5, 36),\n",
       " 7: Fraction(1, 6),\n",
       " 8: Fraction(5, 36),\n",
       " 9: Fraction(1, 9),\n",
       " 10: Fraction(1, 12),\n",
       " 11: Fraction(1, 18),\n",
       " 12: Fraction(1, 36)}"
      ]
     },
     "execution_count": 122,
     "metadata": {},
     "output_type": "execute_result"
    }
   ],
   "source": [
    "p_roll = { total: Fraction(6-abs(total-7), 36) for total in range(2,12+1)}\n",
    "\n",
    "# the set of all possible rolls\n",
    "roll_support = list(p_roll.keys())\n",
    "\n",
    "p_roll"
   ]
  },
  {
   "cell_type": "code",
   "execution_count": 123,
   "metadata": {},
   "outputs": [],
   "source": [
    "class Craps:\n",
    "    def __init__(self, craps=[2, 3, 12], naturals=[7, 11], out=7):\n",
    "        self.craps = craps\n",
    "        self.naturals = naturals\n",
    "        self.out = out\n",
    "    \n",
    "    @property\n",
    "    def internally_consistent(self):\n",
    "        if set(self.craps).intersection(self.naturals):\n",
    "            return False\n",
    "        elif self.out not in set(self.craps).union(self.naturals):\n",
    "            return False\n",
    "        return True\n",
    "    \n",
    "    def p_win(self):\n",
    "        return sum(\n",
    "            p_roll[total] * self.p_come_out(total) \n",
    "            for total in roll_support)\n",
    "        \n",
    "    def p_come_out(self, total):\n",
    "        if total in self.craps:\n",
    "            return 0\n",
    "        elif total in self.naturals:\n",
    "            return 1\n",
    "        else:\n",
    "            return self.p_when_on_point(total)\n",
    "\n",
    "        \n",
    "    def p_when_on_point(self, point):\n",
    "        p_out = p_roll[self.out]\n",
    "        p_point = p_roll[point]\n",
    "        return p_point / (p_out + p_point)\n",
    "    \n",
    "    def __str__(self):\n",
    "        return \"craps: {}  naturals: {}  out: {}\".format(\n",
    "            concise_range(self.craps),\n",
    "            concise_range(self.naturals),\n",
    "            self.out)\n",
    "    \n",
    "    @property\n",
    "    def sort_key(self):\n",
    "        complexity = len(self.craps) + len(self.naturals)\n",
    "        return (complexity, self.out)\n",
    "    \n",
    "    def __lt__(self, other):\n",
    "        return self.sort_key, other.sort_key \n",
    "        "
   ]
  },
  {
   "cell_type": "code",
   "execution_count": 127,
   "metadata": {},
   "outputs": [
    {
     "data": {
      "text/plain": [
       "(Fraction(244, 495), 0.49292929292929294, 0.014141414141414121)"
      ]
     },
     "execution_count": 127,
     "metadata": {},
     "output_type": "execute_result"
    }
   ],
   "source": [
    "# the original game\n",
    "p = Craps().p_win()\n",
    "p_original = p\n",
    "p, float(p), 2*(0.5-float(p))"
   ]
  },
  {
   "cell_type": "code",
   "execution_count": 128,
   "metadata": {},
   "outputs": [],
   "source": [
    "def generate_craps_variants():\n",
    "    for craps, naturals, _ in algorithm_u(roll_support, 3):\n",
    "        for out in craps + naturals:\n",
    "            craps_variant = Craps(craps, naturals, out)\n",
    "            if craps_variant.internally_consistent:\n",
    "\n",
    "                yield craps_variant\n",
    " "
   ]
  },
  {
   "cell_type": "code",
   "execution_count": 129,
   "metadata": {},
   "outputs": [
    {
     "data": {
      "text/plain": [
       "229858"
      ]
     },
     "execution_count": 129,
     "metadata": {},
     "output_type": "execute_result"
    }
   ],
   "source": [
    "sum( 1 for _ in generate_craps_variants() )"
   ]
  },
  {
   "cell_type": "code",
   "execution_count": 130,
   "metadata": {},
   "outputs": [],
   "source": [
    "def decorate_with_scores(craps_variants):\n",
    "    one_half = Fraction(1, 2)\n",
    "    for craps_variant in craps_variants:\n",
    "        p = craps_variant.p_win() \n",
    "        score = (one_half - p) if p < one_half else 1 - p\n",
    "        yield (score, p, craps_variant)\n",
    "    "
   ]
  },
  {
   "cell_type": "code",
   "execution_count": 131,
   "metadata": {},
   "outputs": [
    {
     "name": "stdout",
     "output_type": "stream",
     "text": [
      "Wall time: 19.7 s\n"
     ]
    }
   ],
   "source": [
    "%time scored_variants = list(decorate_with_scores(generate_craps_variants()))\n"
   ]
  },
  {
   "cell_type": "code",
   "execution_count": 132,
   "metadata": {},
   "outputs": [
    {
     "name": "stdout",
     "output_type": "stream",
     "text": [
      "Wall time: 8.32 s\n"
     ]
    }
   ],
   "source": [
    "%time sorted_variants = sorted(scored_variants)"
   ]
  },
  {
   "cell_type": "code",
   "execution_count": 133,
   "metadata": {},
   "outputs": [
    {
     "name": "stdout",
     "output_type": "stream",
     "text": [
      "craps: 2,8,10,12  naturals: 3,7  out: 10 : 5039/10080  49.9901%\n",
      "craps: 2,6,10,12  naturals: 3,7  out: 10 : 5039/10080  49.9901%\n",
      "craps: 2,4,8,12  naturals: 3,7  out: 4 : 5039/10080  49.9901%\n",
      "craps: 2-3,7,12  naturals: 4,8  out: 4 : 5039/10080  49.9901%\n",
      "craps: 2-3,7,12  naturals: 4,6  out: 4 : 5039/10080  49.9901%\n",
      "craps: 2,4,6,12  naturals: 3,7  out: 4 : 5039/10080  49.9901%\n",
      "craps: 2-3,6  naturals: 4,12  out: 4 : 5039/10080  49.9901%\n",
      "craps: 2,4,7  naturals: 3,6,12  out: 4 : 5039/10080  49.9901%\n",
      "craps: 2,4,7  naturals: 3,8,12  out: 4 : 5039/10080  49.9901%\n",
      "craps: 2-3,8  naturals: 4,12  out: 4 : 5039/10080  49.9901%\n",
      "craps: 2,7,10  naturals: 3,6,12  out: 10 : 5039/10080  49.9901%\n",
      "craps: 2,7,10  naturals: 3,8,12  out: 10 : 5039/10080  49.9901%\n",
      "craps: 2-3,6,11  naturals: 4,8,10  out: 8 : 3563/7128  49.9860%\n",
      "craps: 2-3,6,11  naturals: 4,8,10  out: 6 : 3563/7128  49.9860%\n",
      "craps: 2-3,8,11  naturals: 4,6,10  out: 6 : 3563/7128  49.9860%\n",
      "craps: 2-3,8,11  naturals: 4,6,10  out: 8 : 3563/7128  49.9860%\n",
      "craps: 2,6-7  naturals: 3,5,8-9  out: 8 : 1511/3024  49.9669%\n",
      "craps: 2,6-7  naturals: 3,5,8-9  out: 6 : 1511/3024  49.9669%\n",
      "craps: 2,7-8  naturals: 3,5-6,9  out: 6 : 1511/3024  49.9669%\n",
      "craps: 2,7-8  naturals: 3,5-6,9  out: 8 : 1511/3024  49.9669%\n"
     ]
    }
   ],
   "source": [
    "for score, p, craps_variant in sorted_variants[:20]:\n",
    "    print(\"{} : {}  {:.4f}%\".format(craps_variant, p, 100*float(p)))"
   ]
  },
  {
   "cell_type": "code",
   "execution_count": 134,
   "metadata": {},
   "outputs": [
    {
     "data": {
      "text/plain": [
       "12"
      ]
     },
     "execution_count": 134,
     "metadata": {},
     "output_type": "execute_result"
    }
   ],
   "source": [
    "sum( p == Fraction(5039, 10080) for _, p, _ in scored_variants)"
   ]
  },
  {
   "cell_type": "code",
   "execution_count": 135,
   "metadata": {},
   "outputs": [
    {
     "data": {
      "text/plain": [
       "0.01621000791793194"
      ]
     },
     "execution_count": 135,
     "metadata": {},
     "output_type": "execute_result"
    }
   ],
   "source": [
    "sum( p > p_original and p < Fraction(1,2) for _, p, _ in scored_variants)/len(scored_variants)"
   ]
  },
  {
   "cell_type": "code",
   "execution_count": 136,
   "metadata": {},
   "outputs": [],
   "source": [
    "with open('all_craps_variants.txt', 'w') as outfile:\n",
    "    for craps_variant in generate_craps_variants():\n",
    "        p = craps_variant.p_win()    \n",
    "        outfile.write(\"{} : {}  {:.4f}%\\n\".format(craps_variant, p, 100*float(p)))"
   ]
  },
  {
   "cell_type": "code",
   "execution_count": 137,
   "metadata": {},
   "outputs": [],
   "source": [
    "import random\n",
    "\n",
    "class CrapsSimulation:\n",
    "    def __init__(self, craps=[2, 3, 12], naturals=[7, 11], out=7):\n",
    "        self.craps = craps\n",
    "        self.naturals = naturals\n",
    "        self.out = out\n",
    "    \n",
    "    def reset(self):\n",
    "        self.point = None\n",
    "        self.roll_log = []\n",
    "    \n",
    "    def roll(self):\n",
    "        roll = random.randint(1, 6) + random.randint(1, 6)\n",
    "        self.roll_log.append(roll)\n",
    "        return roll\n",
    "    \n",
    "    def play(self):\n",
    "        self.reset()\n",
    "        \n",
    "        come_out_roll = self.roll()\n",
    "        if come_out_roll in self.craps:\n",
    "            return 0\n",
    "        elif come_out_roll in self.naturals:\n",
    "            return 1\n",
    "        else:\n",
    "            self.point = come_out_roll\n",
    "            return self.play_on_point()\n",
    "    \n",
    "    def play_on_point(self):\n",
    "        while True:\n",
    "            roll = self.roll()\n",
    "            if roll == self.out:\n",
    "                return 0\n",
    "            if roll == self.point:\n",
    "                return 1\n",
    "    \n",
    "    "
   ]
  },
  {
   "cell_type": "code",
   "execution_count": null,
   "metadata": {},
   "outputs": [],
   "source": [
    "n = int(1e8)\n",
    "\n",
    "original_game = CrapsSimulation(craps=[2, 3, 12], naturals=[7, 11], out=7)\n",
    "fairest_variant = CrapsSimulation(craps=[2, 8, 10, 12],  naturals=[3, 7],  out=10)\n",
    "\n",
    "outcomes = []\n",
    "for sim in [original_game, fairest_variant]:\n",
    "    win_loss_record = [ sim.play() for _ in range(n) ]\n",
    "    p_win = sum(win_loss_record) / len(win_loss_record)\n",
    "    outcomes.append(p_win)\n",
    "\n",
    "outcomes"
   ]
  }
 ],
 "metadata": {
  "kernelspec": {
   "display_name": "Python 3",
   "language": "python",
   "name": "python3"
  },
  "language_info": {
   "codemirror_mode": {
    "name": "ipython",
    "version": 3
   },
   "file_extension": ".py",
   "mimetype": "text/x-python",
   "name": "python",
   "nbconvert_exporter": "python",
   "pygments_lexer": "ipython3",
   "version": "3.6.5"
  }
 },
 "nbformat": 4,
 "nbformat_minor": 2
}
